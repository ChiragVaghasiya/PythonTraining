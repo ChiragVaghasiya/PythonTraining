{
 "cells": [
  {
   "cell_type": "code",
   "execution_count": 3,
   "metadata": {},
   "outputs": [],
   "source": [
    "import docx\n",
    "from datetime import datetime\n",
    " \n",
    "# Define the path to the DOCX file\n",
    "file_path = \"/home/chirag/PythonTraining/Offer Letter Experience.docx\"\n",
    " \n",
    "# Load the DOCX file\n",
    "try:\n",
    "    doc = docx.Document(file_path)\n",
    " \n",
    "    # Define a function to replace placeholders with actual values\n",
    "    def replace_placeholder(text, replacements):\n",
    "        for placeholder, value in replacements.items():\n",
    "            text = text.replace(\"{{ \" + placeholder + \" }}\", str(value))\n",
    "        return text\n",
    " \n",
    "    # Define the replacements\n",
    "    replacements = {\n",
    "        \"hr.employee - birthday - %d-%m-%Y\": datetime.strptime(\"1990-01-01\", \"%Y-%m-%d\").strftime(\"%d-%m-%Y\"),\n",
    "        \"emp_address\": \"123 Main St, City, Country\",\n",
    "        # Add more replacements here\n",
    "    }\n",
    " \n",
    "    # Replace Content Values\n",
    "    for paragraph in doc.paragraphs:\n",
    "        paragraph.text = replace_placeholder(paragraph.text, replacements)\n",
    " \n",
    "    # Save the modified document\n",
    "    doc.save(\"modified_offer_letter.docx\")\n",
    " \n",
    "except Exception as e:\n",
    "    print(\"An error occurred:\", e)\n",
    " "
   ]
  },
  {
   "cell_type": "code",
   "execution_count": 2,
   "metadata": {},
   "outputs": [
    {
     "name": "stdout",
     "output_type": "stream",
     "text": [
      "Collecting python-docx\n",
      "  Downloading python_docx-1.1.0-py3-none-any.whl (239 kB)\n",
      "\u001b[2K     \u001b[90m━━━━━━━━━━━━━━━━━━━━━━━━━━━━━━━━━━━━━━━\u001b[0m \u001b[32m239.6/239.6 kB\u001b[0m \u001b[31m2.4 MB/s\u001b[0m eta \u001b[36m0:00:00\u001b[0m00:01\u001b[0m00:01\u001b[0m\n",
      "\u001b[?25hCollecting lxml>=3.1.0\n",
      "  Downloading lxml-5.1.0-cp310-cp310-manylinux_2_17_x86_64.manylinux2014_x86_64.whl (8.0 MB)\n",
      "\u001b[2K     \u001b[90m━━━━━━━━━━━━━━━━━━━━━━━━━━━━━━━━━━━━━━━━\u001b[0m \u001b[32m8.0/8.0 MB\u001b[0m \u001b[31m5.3 MB/s\u001b[0m eta \u001b[36m0:00:00\u001b[0m00:01\u001b[0m00:01\u001b[0mm\n",
      "\u001b[?25hCollecting typing-extensions\n",
      "  Downloading typing_extensions-4.9.0-py3-none-any.whl (32 kB)\n",
      "Installing collected packages: typing-extensions, lxml, python-docx\n",
      "Successfully installed lxml-5.1.0 python-docx-1.1.0 typing-extensions-4.9.0\n",
      "\n",
      "\u001b[1m[\u001b[0m\u001b[34;49mnotice\u001b[0m\u001b[1;39;49m]\u001b[0m\u001b[39;49m A new release of pip available: \u001b[0m\u001b[31;49m22.3.1\u001b[0m\u001b[39;49m -> \u001b[0m\u001b[32;49m24.0\u001b[0m\n",
      "\u001b[1m[\u001b[0m\u001b[34;49mnotice\u001b[0m\u001b[1;39;49m]\u001b[0m\u001b[39;49m To update, run: \u001b[0m\u001b[32;49mpip install --upgrade pip\u001b[0m\n"
     ]
    }
   ],
   "source": [
    "!pip install python-docx"
   ]
  },
  {
   "cell_type": "code",
   "execution_count": null,
   "metadata": {},
   "outputs": [],
   "source": []
  },
  {
   "cell_type": "code",
   "execution_count": null,
   "metadata": {},
   "outputs": [],
   "source": []
  },
  {
   "cell_type": "code",
   "execution_count": null,
   "metadata": {},
   "outputs": [],
   "source": []
  }
 ],
 "metadata": {
  "kernelspec": {
   "display_name": "venv",
   "language": "python",
   "name": "python3"
  },
  "language_info": {
   "codemirror_mode": {
    "name": "ipython",
    "version": 3
   },
   "file_extension": ".py",
   "mimetype": "text/x-python",
   "name": "python",
   "nbconvert_exporter": "python",
   "pygments_lexer": "ipython3",
   "version": "3.10.12"
  }
 },
 "nbformat": 4,
 "nbformat_minor": 2
}
